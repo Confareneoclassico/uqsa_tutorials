{
 "cells": [
  {
   "cell_type": "markdown",
   "metadata": {},
   "source": [
    "<!-- dom:TITLE: Introductory notebooks for uncertainty quantification and sensitivity analysis -->\n",
    "# Introductory notebooks for uncertainty quantification and sensitivity analysis\n",
    "<!-- dom:AUTHOR: Vinzenz Eck at Department of Structural Engineering, NTNU -->\n",
    "<!-- Author: --> **Vinzenz Eck**, Department of Structural Engineering, NTNU\n",
    "\n",
    "<!-- dom:AUTHOR: Jacob Trent Sturdy at Department of Structural Engineering, NTNU -->\n",
    "<!-- Author: --> **Jacob Trent Sturdy**, Department of Structural Engineering, NTNU\n",
    "\n",
    "<!-- dom:AUTHOR: Leif Rune Hellevik at Department of Structural Engineering, NTNU -->\n",
    "<!-- Author: --> **Leif Rune Hellevik**, Department of Structural Engineering, NTNU\n",
    "\n",
    "Date: **Jun 26, 2017**\n",
    "\n",
    "# Contents\n",
    "\n",
    "In this git we have collected a number of notebooks aiming at\n",
    "introducing you to the application of uncertainty quantification and\n",
    "sensitivity analysis (UQSA).\n",
    "\n",
    "Below you find a hyperlinked overview which will take you to the various subtopics we have found to be useful in UQSA. \n",
    "\n",
    "  * [Preliminaries](preliminaries.ipynb) contains useful statistical relations and laws for derivation of  the Sobol indices\n",
    "\n",
    "  * [First order sensitivity indices](sensitivity_introduction.ipynb)\n",
    "\n",
    "  * [Higher order sensitivity indices](sensitivity_higher_order.ipynb)\n",
    "\n",
    "  * [Monte Carlo methods for UQSA](monte_carlo.ipynb)\n",
    "\n",
    "  * [Polynomial chaos expansion methods for UQSA](introduction_gpc.ipynb)\n",
    "\n",
    "  * [Exercises](exercises.ipynb)\n",
    "\n",
    "## Acknowledgements\n",
    "\n",
    "The development of the course material was supported by a grant from the [Peder Sather Center](http://sathercenter.berkeley.edu/peder-sather-grant/2016-grantees/)."
   ]
  }
 ],
 "metadata": {
  "kernelspec": {
   "display_name": "Python 3",
   "language": "python",
   "name": "python3"
  },
  "language_info": {
   "codemirror_mode": {
    "name": "ipython",
    "version": 3
   },
   "file_extension": ".py",
   "mimetype": "text/x-python",
   "name": "python",
   "nbconvert_exporter": "python",
   "pygments_lexer": "ipython3",
   "version": "3.5.2"
  }
 },
 "nbformat": 4,
 "nbformat_minor": 2
}
