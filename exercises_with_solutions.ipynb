{
 "cells": [
  {
   "cell_type": "markdown",
   "metadata": {},
   "source": [
    "# Exercises\n",
    "\n",
    "We will consider our all purpose model"
   ]
  },
  {
   "cell_type": "markdown",
   "metadata": {},
   "source": [
    "<!-- Equation labels as ordinary links -->\n",
    "<div id=\"_auto1\"></div>\n",
    "\n",
    "$$\n",
    "\\begin{equation}\n",
    "Y = \\sum_i^r \\Omega_i \\; \\mathbf{Z}_i\n",
    "\\label{_auto1} \\tag{1}\n",
    "\\end{equation}\n",
    "$$"
   ]
  },
  {
   "cell_type": "markdown",
   "metadata": {},
   "source": [
    "for the two slightly different cases we have presented previously:\n",
    "\n",
    "**Case 1: Additive**"
   ]
  },
  {
   "cell_type": "markdown",
   "metadata": {},
   "source": [
    "<!-- Equation labels as ordinary links -->\n",
    "<div id=\"_auto2\"></div>\n",
    "\n",
    "$$\n",
    "\\begin{equation}\n",
    "Z_i  \\sim N(0, \\sigma_{Z_i}), \\qquad i=1,2, \\ldots, r \n",
    "\\label{_auto2} \\tag{2}\n",
    "\\end{equation}\n",
    "$$"
   ]
  },
  {
   "cell_type": "markdown",
   "metadata": {},
   "source": [
    "<!-- Equation labels as ordinary links -->\n",
    "<div id=\"_auto3\"></div>\n",
    "\n",
    "$$\n",
    "\\begin{equation}  \n",
    "\\Omega_i = \\textsf{constant} \n",
    "\\label{_auto3} \\tag{3}\n",
    "\\end{equation}\n",
    "$$"
   ]
  },
  {
   "cell_type": "markdown",
   "metadata": {},
   "source": [
    "**Case 2: Non-additive (interaction)**"
   ]
  },
  {
   "cell_type": "markdown",
   "metadata": {},
   "source": [
    "<!-- Equation labels as ordinary links -->\n",
    "<div id=\"_auto4\"></div>\n",
    "\n",
    "$$\n",
    "\\begin{equation}\n",
    "Z_i  \\sim N(0, \\sigma_{Z_i}), \\qquad i=1,2, \\ldots, r \n",
    "\\label{_auto4} \\tag{4}\n",
    "\\end{equation}\n",
    "$$"
   ]
  },
  {
   "cell_type": "markdown",
   "metadata": {},
   "source": [
    "<!-- Equation labels as ordinary links -->\n",
    "<div id=\"_auto5\"></div>\n",
    "\n",
    "$$\n",
    "\\begin{equation}  \n",
    "\\Omega_i  \\sim N(\\mu_{\\Omega_i}, \\sigma_{\\Omega_i})\n",
    "\\label{_auto5} \\tag{5}\n",
    "\\end{equation}\n",
    "$$"
   ]
  },
  {
   "cell_type": "markdown",
   "metadata": {},
   "source": [
    "<!-- --- begin exercise --- -->\n",
    "\n",
    "## Exercise: Sobol indices for an additive model\n",
    "\n",
    "For the additive model represented by Case 1:\n",
    "\n",
    "\n",
    "**a)**\n",
    "Compute the first order Sobol indices analytically:"
   ]
  },
  {
   "cell_type": "markdown",
   "metadata": {},
   "source": [
    "<!-- Equation labels as ordinary links -->\n",
    "<div id=\"exeq:Si\"></div>\n",
    "\n",
    "$$\n",
    "\\begin{equation}\n",
    "S_i = \\frac{\\text{V}_{Z_i}(E_{Z_{\\sim i}} (Y\\;|\\;Z_i))}{\\text{V}(Y)}\n",
    "\\label{exeq:Si} \\tag{6}\n",
    "\\end{equation}\n",
    "$$"
   ]
  },
  {
   "cell_type": "markdown",
   "metadata": {},
   "source": [
    "**Solution:**\n",
    "\n",
    "We compute the variance $V(Y)$ occuring in the denominator of\n",
    "([exeq:Si](#exeq:Si)) first:"
   ]
  },
  {
   "cell_type": "markdown",
   "metadata": {},
   "source": [
    "<!-- Equation labels as ordinary links -->\n",
    "<div id=\"exeq:VY\"></div>\n",
    "\n",
    "$$\n",
    "\\begin{equation}\n",
    "V(Y) = V\\left (\\sum_i^r \\Omega_i \\; \\mathbf{Z}_i \\right ) = \\sum_i^r V\\left ( \\Omega_i \\; \\mathbf{Z}_i \\right ) = \\sum_i^r \\Omega_i^2 \\; \\sigma_{Z_i}^2\n",
    "\\label{exeq:VY} \\tag{7}\n",
    "\\end{equation}\n",
    "$$"
   ]
  },
  {
   "cell_type": "markdown",
   "metadata": {},
   "source": [
    "Then, we proceed to the inner conditional expectation of the numerator\n",
    "in ([exeq:Si](#exeq:Si)):"
   ]
  },
  {
   "cell_type": "markdown",
   "metadata": {},
   "source": [
    "<!-- Equation labels as ordinary links -->\n",
    "<div id=\"exeq:VgivenZ\"></div>\n",
    "\n",
    "$$\n",
    "\\begin{equation}\n",
    "E_{Z_{\\sim i}} \\left (Y\\, | \\, Z_i \\right )  = \\sum_{k \\neq i}^r E(\\Omega_k) \\, E(Z_k) + E_{\\Omega_i} (\\Omega_i Z_i) = Z_i \\, E_{\\Omega_i} (\\Omega_i) = Z_i \\, \\Omega_i = f(Z_i)\n",
    "\\label{exeq:VgivenZ} \\tag{8}\n",
    "\\end{equation}\n",
    "$$"
   ]
  },
  {
   "cell_type": "markdown",
   "metadata": {},
   "source": [
    "Finally, we may then compute the outer variance of ([exeq:VgivenZ](#exeq:VgivenZ)) with respect to $Z_i$ as:"
   ]
  },
  {
   "cell_type": "markdown",
   "metadata": {},
   "source": [
    "<!-- Equation labels as ordinary links -->\n",
    "<div id=\"exeq:VgivenZ2\"></div>\n",
    "\n",
    "$$\n",
    "\\begin{equation}\n",
    "V_{Z_i}(E_{Z_{\\sim i}} (Y\\;|\\;Z_i)) = V(\\Omega=_i \\, Z_i) = \\Omega_i^2 \\, V(Z_i) = \\Omega_i^2 \\, \\sigma_{Z_i}^2\n",
    "\\label{exeq:VgivenZ2} \\tag{9}\n",
    "\\end{equation}\n",
    "$$"
   ]
  },
  {
   "cell_type": "markdown",
   "metadata": {},
   "source": [
    "Substitution of the expressions for the conditional expectation in\n",
    "([exeq:VgivenZ2](#exeq:VgivenZ2)) and $V(Y)$ into the generic expression for the\n",
    "first order Sobol indices yields:"
   ]
  },
  {
   "cell_type": "markdown",
   "metadata": {},
   "source": [
    "<!-- Equation labels as ordinary links -->\n",
    "<div id=\"_auto6\"></div>\n",
    "\n",
    "$$\n",
    "\\begin{equation}\n",
    "S_i = \\frac{\\Omega_i^2 \\, \\sigma_{Z_i}^2}{\\sum_j \\Omega_j^2 \\, \\sigma_{Z_j}^2}\n",
    "\\label{_auto6} \\tag{10}\n",
    "\\end{equation}\n",
    "$$"
   ]
  },
  {
   "cell_type": "markdown",
   "metadata": {},
   "source": [
    "**b)**\n",
    "Show that $ \\sum_i \\left( S_{Z_i}^{\\sigma} \\right )^2 = 1$ for Case 1.\n",
    "\n",
    "\n",
    "**Solution:**\n",
    "\n",
    "From the previous exercise we know:"
   ]
  },
  {
   "cell_type": "markdown",
   "metadata": {},
   "source": [
    "<!-- Equation labels as ordinary links -->\n",
    "<div id=\"_auto7\"></div>\n",
    "\n",
    "$$\n",
    "\\begin{equation}\n",
    "S_i = \\frac{\\Omega_i^2 \\, \\sigma_{Z_i}^2}{\\sum_j \\Omega_j^2 \\, \\sigma_{Z_j}^2} = \\frac{\\Omega_i^2 \\, \\sigma_{Z_i}^2}{\\sigma_{y}^2} \\qquad \\textsf{and} \\qquad \\sigma_y^2 = \\sum_j \\Omega_j^2 \\, \\sigma_{Z_j}^2\n",
    "\\label{_auto7} \\tag{11}\n",
    "\\end{equation}\n",
    "$$"
   ]
  },
  {
   "cell_type": "markdown",
   "metadata": {},
   "source": [
    "by summation of the expression above we get:"
   ]
  },
  {
   "cell_type": "markdown",
   "metadata": {},
   "source": [
    "<!-- Equation labels as ordinary links -->\n",
    "<div id=\"_auto8\"></div>\n",
    "\n",
    "$$\n",
    "\\begin{equation}\n",
    "\\sum_i S_i =  \\sum_i \\Omega_i^2 \\, \\sigma_{Z_i}^2 \\; \\frac{1}{\\sigma_{y}^2} = \\frac{\\sigma_{y}^2}{\\sigma_{y}^2} = 1\n",
    "\\label{_auto8} \\tag{12}\n",
    "\\end{equation}\n",
    "$$"
   ]
  },
  {
   "cell_type": "markdown",
   "metadata": {},
   "source": [
    "**c)**\n",
    "Show that $S_{T_i} = S_{Z_i}$ for the additive model, i.e. that the\n",
    "variance of the model output is completely described by the first\n",
    "order indices.\n",
    "\n",
    "\n",
    "**Solution:**\n",
    "\n",
    "The expression for $S_{Ti}$ is:"
   ]
  },
  {
   "cell_type": "markdown",
   "metadata": {},
   "source": [
    "<!-- Equation labels as ordinary links -->\n",
    "<div id=\"exeq:STi\"></div>\n",
    "\n",
    "$$\n",
    "\\begin{equation}\n",
    "S_{Ti} = 1- \\frac{\\text{V}_{Z_\\sim i}(E_{Z_i} (Y\\;|\\;Z_\\sim i))}{\\text{V}(Y)}= \\frac{\\text{V}(Y) - \\text{V}_{Z_\\sim i}(E_{Z_i} (Y\\;|\\;Z_\\sim i))}{\\text{V}(Y)}\n",
    "\\label{exeq:STi} \\tag{13}\n",
    "\\end{equation}\n",
    "$$"
   ]
  },
  {
   "cell_type": "markdown",
   "metadata": {},
   "source": [
    "as we already know $V(Y)$ from ([exeq:VY](#exeq:VY)) we first compute the\n",
    "inner expectation of the numerator in ([exeq:STi](#exeq:STi)):"
   ]
  },
  {
   "cell_type": "markdown",
   "metadata": {},
   "source": [
    "<!-- Equation labels as ordinary links -->\n",
    "<div id=\"exeq:EnotZi\"></div>\n",
    "\n",
    "$$\n",
    "\\begin{equation}\n",
    "E_{Z_i} (Y\\;|\\;Z_\\sim i) = \\sum_{k \\neq i} \\Omega_k \\, Z_k + \\Omega_i \\, E_{Z_i} (Z_i) =  \\sum_{k \\neq i} \\Omega_k \\, Z_k  = f(Z_{\\sim i}) \n",
    "\\label{exeq:EnotZi} \\tag{14}\n",
    "\\end{equation}\n",
    "$$"
   ]
  },
  {
   "cell_type": "markdown",
   "metadata": {},
   "source": [
    "From ([exeq:EnotZi](#exeq:EnotZi)) we readily compute the outer variance:"
   ]
  },
  {
   "cell_type": "markdown",
   "metadata": {},
   "source": [
    "<!-- Equation labels as ordinary links -->\n",
    "<div id=\"_auto9\"></div>\n",
    "\n",
    "$$\n",
    "\\begin{equation}\n",
    "\\text{V}_{Z_{\\sim i}}(E_{Z_i} (Y\\;|\\;Z_{\\sim i})) = \\sum_{k \\neq i} \\Omega_k^2 \\, \\sigma_{Z_k}^2\n",
    "\\label{_auto9} \\tag{15}\n",
    "\\end{equation}\n",
    "$$"
   ]
  },
  {
   "cell_type": "markdown",
   "metadata": {},
   "source": [
    "which by substitution into ([exeq:STi](#exeq:STi)) yields:"
   ]
  },
  {
   "cell_type": "markdown",
   "metadata": {},
   "source": [
    "<!-- Equation labels as ordinary links -->\n",
    "<div id=\"_auto10\"></div>\n",
    "\n",
    "$$\n",
    "\\begin{equation}\n",
    "S_{Ti} = \\frac{\\Omega_i^2 \\, \\sigma_{Z_i}^2}{\\sum_j \\Omega_j^2 \\, \\sigma_{Z_j}^2} =S_i\n",
    "\\label{_auto10} \\tag{16}\n",
    "\\end{equation}\n",
    "$$"
   ]
  },
  {
   "cell_type": "markdown",
   "metadata": {},
   "source": [
    "<!-- --- end exercise --- -->\n",
    "\n",
    "\n",
    "\n",
    "\n",
    "<!-- --- begin exercise --- -->\n",
    "\n",
    "## Exercise: Sobol indices for a model with interactions\n",
    "\n",
    "\n",
    "**a)**\n",
    "Compute analytically the first order Sobol indices  for the model defined by Case 2.\n",
    "\n",
    "\n",
    "**Solution:**\n",
    "\n",
    "First, we need to compute the total variance $V(Y)$ which for Case 2\n",
    "consists of a sum of the products of two variables $\\Omega_i$ and\n",
    "$Z_i$. The variance of the of each product which constitutes the\n",
    "summation is given by:"
   ]
  },
  {
   "cell_type": "markdown",
   "metadata": {},
   "source": [
    "<!-- Equation labels as ordinary links -->\n",
    "<div id=\"_auto11\"></div>\n",
    "\n",
    "$$\n",
    "\\begin{equation}\n",
    "V(\\Omega_i \\, Z_i) = V(\\Omega_i) \\,V( Z_i)   + V(\\Omega_i) \\,E( Z_i)^2 +  E(\\Omega_i)^2 \\,V( Z_i) = \\sigma_{\\Omega_i}^2 \\, \\sigma_{\\mathbf{Z}_i}^2 + \\sigma_{Z_i}^2 \\, \\mu_{\\Omega_{i}}^2\n",
    "\\label{_auto11} \\tag{17}\n",
    "\\end{equation}\n",
    "$$"
   ]
  },
  {
   "cell_type": "markdown",
   "metadata": {},
   "source": [
    "which by summation yields:"
   ]
  },
  {
   "cell_type": "markdown",
   "metadata": {},
   "source": [
    "<!-- Equation labels as ordinary links -->\n",
    "<div id=\"exeq:Varinteraction\"></div>\n",
    "\n",
    "$$\n",
    "\\begin{equation}\n",
    "V(Y) = \\sum_i \\sigma_{\\Omega_i}^2 \\, \\sigma_{\\mathbf{Z}_i}^2 + \\sigma_{Z_i}^2 \\, \\mu_{\\Omega_{i}}^2\n",
    "\\label{exeq:Varinteraction} \\tag{18}\n",
    "\\end{equation}\n",
    "$$"
   ]
  },
  {
   "cell_type": "markdown",
   "metadata": {},
   "source": [
    "and we notice that in this case $\\sigma_{\\Omega_i}^2$ naturally has\n",
    "contributions to the total variance.\n",
    "\n",
    "As for the additive model we proceed to find expressions for the inner\n",
    "conditional expectation of the numerator in ([exeq:Si](#exeq:Si)). For\n",
    "convenience we look at the conditional expressiona for $Z_i$ and\n",
    "$\\Omega_i$ separately:"
   ]
  },
  {
   "cell_type": "markdown",
   "metadata": {},
   "source": [
    "<!-- Equation labels as ordinary links -->\n",
    "<div id=\"_auto12\"></div>\n",
    "\n",
    "$$\n",
    "\\begin{equation}\n",
    "E_{X_{\\sim i}} \\left (Y\\, | \\, Z_i \\right )   =  \\sum_{k \\neq i}^r E(\\Omega_k) \\, E(Z_k) + E_{\\Omega_i} (\\Omega_i Z_i) = \\mu_{\\Omega_i}\\, Z_i\n",
    "\\label{_auto12} \\tag{19}\n",
    "\\end{equation}\n",
    "$$"
   ]
  },
  {
   "cell_type": "markdown",
   "metadata": {},
   "source": [
    "<!-- Equation labels as ordinary links -->\n",
    "<div id=\"_auto13\"></div>\n",
    "\n",
    "$$\n",
    "\\begin{equation}  \n",
    "E_{X_{\\sim i}} \\left (Y\\, | \\, \\Omega_i \\right )   =  \\sum_{k \\neq i}^r E(\\Omega_k) \\, E(Z_k) + E_{\\mathbf{Z}_i} (\\Omega_i Z_i) = \\mu_{\\Omega_i} \\, E_{\\mathbf{Z}_i} (Z_i) = 0\n",
    "\\label{_auto13} \\tag{20}\n",
    "\\end{equation}\n",
    "$$"
   ]
  },
  {
   "cell_type": "markdown",
   "metadata": {},
   "source": [
    "The corresponding conditional variances of the inner expectations may\n",
    "subsequently be found to be:"
   ]
  },
  {
   "cell_type": "markdown",
   "metadata": {},
   "source": [
    "<!-- Equation labels as ordinary links -->\n",
    "<div id=\"exeq:VcondZint\"></div>\n",
    "\n",
    "$$\n",
    "\\begin{equation}\n",
    "V_{Z_i} \\left( E_{X_{\\sim i}} \\left (Y\\, | \\, Z_i \\right ) \\right)   = (\\mu_{\\Omega_i})^2\\, \\sigma_{Z_i}^2 \\label{exeq:VcondZint} \\tag{21}\n",
    "\\end{equation}\n",
    "$$"
   ]
  },
  {
   "cell_type": "markdown",
   "metadata": {},
   "source": [
    "<!-- Equation labels as ordinary links -->\n",
    "<div id=\"exeq:VcondWint\"></div>\n",
    "\n",
    "$$\n",
    "\\begin{equation}  \n",
    "V_{\\Omega_i} \\left( E_{X_{\\sim i}} \\left (Y\\, | \\, \\Omega_i \\right ) \\right )  = 0 \\label{exeq:VcondWint} \\tag{22}\n",
    "\\end{equation}\n",
    "$$"
   ]
  },
  {
   "cell_type": "markdown",
   "metadata": {},
   "source": [
    "The first order Sobol indices are finally found from\n",
    "([exeq:Varinteraction](#exeq:Varinteraction)), ([exeq:VcondZint](#exeq:VcondZint)), and\n",
    "([exeq:VcondWint](#exeq:VcondWint)):"
   ]
  },
  {
   "cell_type": "markdown",
   "metadata": {},
   "source": [
    "<!-- Equation labels as ordinary links -->\n",
    "<div id=\"_auto14\"></div>\n",
    "\n",
    "$$\n",
    "\\begin{equation}\n",
    "S_{Z_i} = \\frac{(\\mu_{\\Omega_i})^2\\, \\sigma_{Z_i}^2}{\\sum_i \\sigma_{\\Omega_i}^2 \\, \\sigma_{\\mathbf{Z}_i}^2 + \\sigma_{Z_i}^2 \\, \\Omega_{i}^2}\n",
    "\\label{_auto14} \\tag{23}\n",
    "\\end{equation}\n",
    "$$"
   ]
  },
  {
   "cell_type": "markdown",
   "metadata": {},
   "source": [
    "<!-- Equation labels as ordinary links -->\n",
    "<div id=\"_auto15\"></div>\n",
    "\n",
    "$$\n",
    "\\begin{equation}  \n",
    "S_{\\Omega_i} = 0\n",
    "\\label{_auto15} \\tag{24}\n",
    "\\end{equation}\n",
    "$$"
   ]
  },
  {
   "cell_type": "markdown",
   "metadata": {},
   "source": [
    "**b)**\n",
    "Compute the second order indices for the interaction model\n",
    "\n",
    "\n",
    "**Solution:**\n",
    "To be added. \n",
    "\n",
    "\n",
    "**c)**\n",
    "Show that interaction indices are zero for order 3 and a above for Case 2.\n",
    "\n",
    "\n",
    "**Solution:**\n",
    "To be added. \n",
    "\n",
    "\n",
    "\n",
    "**d)**\n",
    "Compute the total sensitivity indices $S_{T_i}$ for Case 2.\n",
    "\n",
    "**Solution:**\n",
    "\n",
    "To compute the total effect Sobol indices as by ([exeq:STi](#exeq:STi)) we\n",
    "notice that we already have developed a valid expression for $V(Y)$ in\n",
    "([exeq:Varinteraction](#exeq:Varinteraction)). As for the first order indices we look at\n",
    "the indices corresponding to $Z_i$ and $\\Omega_i$ separately as their\n",
    "pdfs are different."
   ]
  },
  {
   "cell_type": "markdown",
   "metadata": {},
   "source": [
    "<!-- Equation labels as ordinary links -->\n",
    "<div id=\"_auto16\"></div>\n",
    "\n",
    "$$\n",
    "\\begin{equation}\n",
    "E_{Z_i} \\left (Y\\, | \\, Z_{\\sim i} \\right )   = \\sum_{k\\neq i} \\Omega_k \\mathbf{Z}_{k} + \\Omega_i E_{Z_i} ( Z_i ) =  = \\sum_{k\\neq i} \\Omega_k \\mathbf{Z}_{k} = f(Z_{\\sim i})\n",
    "\\label{_auto16} \\tag{25}\n",
    "\\end{equation}\n",
    "$$"
   ]
  },
  {
   "cell_type": "markdown",
   "metadata": {},
   "source": [
    "and the outer variance becomes:"
   ]
  },
  {
   "cell_type": "markdown",
   "metadata": {},
   "source": [
    "<!-- Equation labels as ordinary links -->\n",
    "<div id=\"_auto17\"></div>\n",
    "\n",
    "$$\n",
    "\\begin{equation}\n",
    "V_{Z_{\\sim i}} \\left ( E_{Z_i} \\left (Y\\, | \\, Z_{\\sim i} \\right ) \\right )\n",
    "= \\sum_{k\\neq i} \\sigma_{\\Omega_k}^2 \\,\\sigma_{Z_k}^2  + \\mu_{\\Omega_k}^{2} \\, \\sigma_{Z_k}^2 \n",
    "\\label{_auto17} \\tag{26}\n",
    "\\end{equation}\n",
    "$$"
   ]
  },
  {
   "cell_type": "markdown",
   "metadata": {},
   "source": [
    "which after substitution into ([exeq:STi](#exeq:STi)) yields the following\n",
    "expression for the $S_{T\\,Z_i}$:"
   ]
  },
  {
   "cell_type": "markdown",
   "metadata": {},
   "source": [
    "<!-- Equation labels as ordinary links -->\n",
    "<div id=\"_auto18\"></div>\n",
    "\n",
    "$$\n",
    "\\begin{equation}\n",
    "S_{T \\, Z_i} = \\frac{\\sigma_{\\Omega_i}^2 \\,\\sigma_{Z_i}^2  + \\mu_{\\Omega_i}^{2} \\, \\sigma_{Z_i}^2}{\\sum_k \\sigma_{\\Omega_k}^2 \\,\\sigma_{Z_k}^2  + \\mu_{\\Omega_k}^{2} \\, \\sigma_{Z_k}^2} \n",
    "\\label{_auto18} \\tag{27}\n",
    "\\end{equation}\n",
    "$$"
   ]
  },
  {
   "cell_type": "markdown",
   "metadata": {},
   "source": [
    "Next, we look at the $S_{T \\Omega_i}$ and look first at the inner conditional expectation:"
   ]
  },
  {
   "cell_type": "markdown",
   "metadata": {},
   "source": [
    "<!-- Equation labels as ordinary links -->\n",
    "<div id=\"_auto19\"></div>\n",
    "\n",
    "$$\n",
    "\\begin{equation}\n",
    "E_{\\Omega_i} \\left (Y\\, | \\, \\Omega_{\\sim i} \\right )   = \\sum_{k\\neq i} \\Omega_k \\mathbf{Z}_{k} + E_{\\Omega_i}  Z_i = \\sum_{k\\neq i} \\Omega_k \\mathbf{Z}_{k} +\\mu_{\\Omega_i} \\, Z_i =f(\\Omega_{\\sim i})\n",
    "\\label{_auto19} \\tag{28}\n",
    "\\end{equation}\n",
    "$$"
   ]
  },
  {
   "cell_type": "markdown",
   "metadata": {},
   "source": [
    "before we compute the outer variance we look in particular at the\n",
    "variance of the following product:"
   ]
  },
  {
   "cell_type": "markdown",
   "metadata": {},
   "source": [
    "<!-- Equation labels as ordinary links -->\n",
    "<div id=\"_auto20\"></div>\n",
    "\n",
    "$$\n",
    "\\begin{equation}\n",
    "V_{\\Omega_{\\sim k}} (\\Omega_k Z_k ) = V(\\Omega_k) V(Z_k ) + E(\\Omega_k)^2 V(Z_k ) + V(\\Omega_k) E(Z_k )^2 = \\sigma_{\\Omega_k}^2 \\sigma_{\\mathbf{Z}_k}^2  + \\mu_{\\Omega_k}^2 \\sigma_{\\mathbf{Z}_k}^2   \n",
    "\\label{_auto20} \\tag{29}\n",
    "\\end{equation}\n",
    "$$"
   ]
  },
  {
   "cell_type": "markdown",
   "metadata": {},
   "source": [
    "and consequently the outer variance becomes:"
   ]
  },
  {
   "cell_type": "markdown",
   "metadata": {},
   "source": [
    "<!-- Equation labels as ordinary links -->\n",
    "<div id=\"exeq:VY_not_i\"></div>\n",
    "\n",
    "$$\n",
    "\\begin{equation}\n",
    "V_{\\Omega_{\\sim i}} \\left (E_{\\Omega_i} \\left (Y\\, | \\, \\Omega_{\\sim i} \\right ) \\right )   = \\sum_{k\\neq i} = \\sigma_{\\Omega_k}^2 \\sigma_{\\mathbf{Z}_k}^2  + \\mu_{\\Omega_k}^2 \\sigma_{\\mathbf{Z}_k}^2  + \\mu_{\\Omega_i}^2 \\, \\sigma_{Z_i}^2 \\label{exeq:VY_not_i} \\tag{30}\n",
    "\\end{equation}\n",
    "$$"
   ]
  },
  {
   "cell_type": "markdown",
   "metadata": {},
   "source": [
    "Finally, by substitution of ([exeq:VY_not_i](#exeq:VY_not_i)) and\n",
    "([exeq:Varinteraction](#exeq:Varinteraction)) in expression for the total effect Sobol\n",
    "indices ([exeq:STi](#exeq:STi)) we get:"
   ]
  },
  {
   "cell_type": "markdown",
   "metadata": {},
   "source": [
    "<!-- Equation labels as ordinary links -->\n",
    "<div id=\"_auto21\"></div>\n",
    "\n",
    "$$\n",
    "\\begin{equation}\n",
    "S_{T \\, \\Omega_{i}} = \\frac{\\sigma_{\\Omega_i}^2\\sigma_{Z_i}^2}{\\sum_k \\sigma_{\\Omega_k}^2 \\, \\sigma_{\\mathbf{Z}_k}^2 + \\sigma_{Z_k}^2 \\, \\mu_{\\Omega_{k}}^2} \n",
    "\\label{_auto21} \\tag{31}\n",
    "\\end{equation}\n",
    "$$"
   ]
  },
  {
   "cell_type": "markdown",
   "metadata": {},
   "source": [
    "<!-- --- end exercise --- -->"
   ]
  }
 ],
 "metadata": {},
 "nbformat": 4,
 "nbformat_minor": 2
}
