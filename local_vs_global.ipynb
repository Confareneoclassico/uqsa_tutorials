{
 "cells": [
  {
   "cell_type": "code",
   "execution_count": 1,
   "metadata": {},
   "outputs": [],
   "source": [
    "# ipython magic\n",
    "%matplotlib notebook\n",
    "%load_ext autoreload\n",
    "%autoreload 2"
   ]
  },
  {
   "cell_type": "code",
   "execution_count": 2,
   "metadata": {},
   "outputs": [],
   "source": [
    "%matplotlib inline\n",
    "\n",
    "# plot configuration\n",
    "import matplotlib\n",
    "import matplotlib.pyplot as plt\n",
    "plt.style.use(\"ggplot\")"
   ]
  },
  {
   "cell_type": "markdown",
   "metadata": {},
   "source": [
    "# Local versus global sensitivity analysis\n",
    "\n",
    "Motivation and useful purposes of sensitivity analysis\n",
    "\n",
    " * Parameter prioritization of parameters of high sensitivity (importance)\n",
    "\n",
    " * Parameter fixation of parameters of low sensitivity (importance)\n",
    "\n",
    " * Reveal surprising relations/properties of the model\n",
    "\n",
    " * Indentify critical regions in the input parameter space\n",
    "\n",
    "## Local approaches based on derivatives\n",
    "\n",
    "Many sensitivity analyses found in the scientific literature are based\n",
    "on derivatives.  This fact has naturally a rational basis as the\n",
    "partial derivative $\\partial y/\\partial Z_i$ of a model predicion $y$\n",
    "with respect to an input $Z_i$, can be understood as the mathematical\n",
    "representation of the sensitivity of $y$ with respect to $Z_i$.\n",
    "\n",
    "Even though a local, partial derivative approach is computationally\n",
    "inexpensive it has in general limited usage for nonlinear models. The\n",
    "derivatives are linearizations of the model sensitivities around the\n",
    "point in the parameter space at which they are evaluated, and may only\n",
    "be extrapolated to provide information on the sensitivity in other\n",
    "regions of the parameter space in the case of a linear model.\n",
    "\n",
    "To illustrate the fraction of the parameter space one at maximum might\n",
    "explore with the local partial derivative approach (also called the\n",
    "one factor at the time (OAT) approach) we provide a code snippet which\n",
    "calculates the ratio of a [hypersphere](https://en.wikipedia.org/wiki/N-sphere#Recurrences) to a hypercube."
   ]
  },
  {
   "cell_type": "code",
   "execution_count": 14,
   "metadata": {},
   "outputs": [
    {
     "ename": "AttributeError",
     "evalue": "module 'matplotlib.pyplot' has no attribute 'log'",
     "output_type": "error",
     "traceback": [
      "\u001b[0;31m---------------------------------------------------------------------------\u001b[0m",
      "\u001b[0;31mAttributeError\u001b[0m                            Traceback (most recent call last)",
      "\u001b[0;32m<ipython-input-14-ad716b67324b>\u001b[0m in \u001b[0;36m<module>\u001b[0;34m()\u001b[0m\n\u001b[1;32m     17\u001b[0m \u001b[0;34m\u001b[0m\u001b[0m\n\u001b[1;32m     18\u001b[0m \u001b[0mNdim\u001b[0m\u001b[0;34m=\u001b[0m\u001b[0;36m10\u001b[0m\u001b[0;34m\u001b[0m\u001b[0m\n\u001b[0;32m---> 19\u001b[0;31m \u001b[0mplt\u001b[0m\u001b[0;34m.\u001b[0m\u001b[0mlog\u001b[0m\u001b[0;34m(\u001b[0m\u001b[0mhyperSphere_hyperCube_ratio\u001b[0m\u001b[0;34m(\u001b[0m\u001b[0mNdim\u001b[0m\u001b[0;34m)\u001b[0m\u001b[0;34m)\u001b[0m\u001b[0;34m\u001b[0m\u001b[0m\n\u001b[0m\u001b[1;32m     20\u001b[0m \u001b[0m_\u001b[0m\u001b[0;34m=\u001b[0m\u001b[0mplt\u001b[0m\u001b[0;34m.\u001b[0m\u001b[0mxlabel\u001b[0m\u001b[0;34m(\u001b[0m\u001b[0;34m'Number of dimensions'\u001b[0m\u001b[0;34m)\u001b[0m\u001b[0;34m\u001b[0m\u001b[0m\n\u001b[1;32m     21\u001b[0m \u001b[0m_\u001b[0m\u001b[0;34m=\u001b[0m\u001b[0mplt\u001b[0m\u001b[0;34m.\u001b[0m\u001b[0mylabel\u001b[0m\u001b[0;34m(\u001b[0m\u001b[0;34m'Hypersphere to hypercube volume ratio'\u001b[0m\u001b[0;34m)\u001b[0m\u001b[0;34m\u001b[0m\u001b[0m\n",
      "\u001b[0;31mAttributeError\u001b[0m: module 'matplotlib.pyplot' has no attribute 'log'"
     ]
    }
   ],
   "source": [
    "# See https://en.wikipedia.org/wiki/N-sphere#Recurrences\n",
    "\n",
    "def hyperSphere_hyperCube_ratio(N):\n",
    "\n",
    "    Vsphere=[1]\n",
    "    Ssphere=[2]\n",
    "    Vcube=[1]\n",
    "    SphereCubeRatio=[]\n",
    "        \n",
    "    for n in range(0,N):\n",
    "        Ssphere.append(2*np.pi*Vsphere[n])\n",
    "        Vsphere.append(Ssphere[n]/(n+1))\n",
    "        Vcube.append(2**(n+1))\n",
    "        SphereCubeRatio.append(Vsphere[-1]/Vcube[-1])\n",
    "        \n",
    "    return SphereCubeRatio\n",
    "        \n",
    "Ndim=10\n",
    "plt.log(hyperSphere_hyperCube_ratio(Ndim))\n",
    "_=plt.xlabel('Number of dimensions')\n",
    "_=plt.ylabel('Hypersphere to hypercube volume ratio')"
   ]
  },
  {
   "cell_type": "markdown",
   "metadata": {},
   "source": [
    "<!-- dom:FIGURE: [figs/hypersphere.png, width=400 frac=0.7] Ratio of hypersphere volume to hypercube volume.  -->\n",
    "<!-- begin figure -->\n",
    "\n",
    "<p>Ratio of hypersphere volume to hypercube volume.</p>\n",
    "<img src=\"figs/hypersphere.png\" width=400>\n",
    "\n",
    "<!-- end figure -->\n",
    "\n",
    "\n",
    "In the current exposition we will therefore present methods based on a\n",
    "judicious exploration of the parameter space and argue for that it is\n",
    "far more informative and useful (in the sense of being informative and\n",
    "robust) to explore the parameter space at a handful of points, rather\n",
    "than estimating derivatives at a single data point in the center."
   ]
  }
 ],
 "metadata": {
  "kernelspec": {
   "display_name": "Python 3",
   "language": "python",
   "name": "python3"
  },
  "language_info": {
   "codemirror_mode": {
    "name": "ipython",
    "version": 3
   },
   "file_extension": ".py",
   "mimetype": "text/x-python",
   "name": "python",
   "nbconvert_exporter": "python",
   "pygments_lexer": "ipython3",
   "version": "3.5.2"
  }
 },
 "nbformat": 4,
 "nbformat_minor": 2
}
