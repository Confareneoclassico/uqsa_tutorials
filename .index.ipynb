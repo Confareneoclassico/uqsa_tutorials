{
 "cells": [
  {
   "cell_type": "markdown",
   "metadata": {},
   "source": [
    "# Notebook overview\n",
    "\n",
    "In this git we have collected a number of notebooks aiming at\n",
    "introducing you to the application of uncertainty quantification and\n",
    "sensitivity analysis (UQSA).\n",
    "\n",
    "Below you find a hyperlinked overview which will take you to the various subtopics we have found to be useful in UQSA. \n",
    "\n",
    "  * [Preliminaries](preliminaries.ipynb) tries to present the statistical relations and laws needed to derive the Sobol indices\n",
    "\n",
    "  * [First order sensitivity indices](sensitivity_introduction.ipynb)\n",
    "\n",
    "  * [Higher order sensitivity indices](sensitivity_higher_order.ipynb)\n",
    "\n",
    "  * [Monte Carlo methods for UQSA](monte_carlo.ipynb)\n",
    "\n",
    "  * [Polynomial chaos expansion methods for UQSA](introuduction_gpc.ipynb)\n",
    "\n",
    "  * [Exercises](exercies.ipynb)"
   ]
  }
 ],
 "metadata": {
  "kernelspec": {
   "display_name": "Python 2",
   "language": "python",
   "name": "python2"
  },
  "language_info": {
   "codemirror_mode": {
    "name": "ipython",
    "version": 2
   },
   "file_extension": ".py",
   "mimetype": "text/x-python",
   "name": "python",
   "nbconvert_exporter": "python",
   "pygments_lexer": "ipython2",
   "version": "2.7.13"
  }
 },
 "nbformat": 4,
 "nbformat_minor": 2
}
